{
 "cells": [
  {
   "cell_type": "code",
   "execution_count": 1,
   "metadata": {},
   "outputs": [
    {
     "name": "stdout",
     "output_type": "stream",
     "text": [
      "1\n",
      "!\n",
      "('b', 'c')\n"
     ]
    }
   ],
   "source": [
    "int_ex = 3\n",
    "float_ex = 3.14\n",
    "str_ex = \"Hello,Python!\"\n",
    "list_ex = [1, 2, 3]\n",
    "tuple_ex = (\"a\", \"b\", \"c\")\n",
    "\n",
    "print(list_ex[0])\n",
    "print(str_ex[-1])\n",
    "print(tuple_ex[1:])"
   ]
  },
  {
   "cell_type": "code",
   "execution_count": 3,
   "metadata": {},
   "outputs": [
    {
     "name": "stdout",
     "output_type": "stream",
     "text": [
      "a\n",
      "1\n",
      "2\n",
      "3\n",
      "4\n",
      "4\n"
     ]
    }
   ],
   "source": [
    "list_ex.append(4)\n",
    "dict_ex= {\"A\": \"a\", \"B\":\"b\"}\n",
    "print(dict_ex[\"A\"])\n",
    "\n",
    "for item in list_ex:\n",
    "    print(item)"
   ]
  },
  {
   "cell_type": "code",
   "execution_count": 7,
   "metadata": {},
   "outputs": [
    {
     "name": "stdout",
     "output_type": "stream",
     "text": [
      "While loop ...\n",
      "1\n",
      "2\n",
      "3\n",
      "4\n",
      "4\n",
      "For loop...\n",
      "1\n",
      "2\n",
      "3\n",
      "4\n",
      "4\n"
     ]
    }
   ],
   "source": [
    "print(\"While loop ...\")\n",
    "i=0\n",
    "while i < len(list_ex):\n",
    "     print(list_ex[i])\n",
    "     i += 1\n",
    "\n",
    "print(\"For loop...\")\n",
    "for element in list_ex:\n",
    "    print(element)"
   ]
  },
  {
   "cell_type": "code",
   "execution_count": 8,
   "metadata": {},
   "outputs": [
    {
     "name": "stdout",
     "output_type": "stream",
     "text": [
      "at least one is true\n"
     ]
    }
   ],
   "source": [
    "a = True\n",
    "b = False\n",
    "\n",
    "if a and b:\n",
    "    print(\"Both arre ture\")\n",
    "elif a or b:\n",
    "    print(\"at least one is true\")\n",
    "else:\n",
    "    print(\"NEither is true\")"
   ]
  },
  {
   "cell_type": "code",
   "execution_count": 11,
   "metadata": {},
   "outputs": [
    {
     "name": "stdout",
     "output_type": "stream",
     "text": [
      "Current Directory: C:\\Users\\alyss\\OneDrive\\Documents\\GitHub\\ppchem\n",
      "The file does not exist\n"
     ]
    }
   ],
   "source": [
    "from pathlib import Path\n",
    "current_directory = Path.cwd()\n",
    "print(\"Current Directory:\", current_directory.resolve())\n",
    "\n",
    "example_file_path = current_directory / \"example.txt\"\n",
    "\n",
    "if example_file_path.exists():\n",
    "    with example_file_path.open(\"r\") as file:\n",
    "        content = file.read()\n",
    "        print(content)\n",
    "else:\n",
    "    print(\"The file does not exist\")\n",
    "\n"
   ]
  },
  {
   "cell_type": "code",
   "execution_count": 10,
   "metadata": {},
   "outputs": [
    {
     "name": "stdout",
     "output_type": "stream",
     "text": [
      "Current Directory: C:\\Users\\alyss\\OneDrive\\Documents\\GitHub\\ppchem\n",
      "The file does not exist.\n"
     ]
    }
   ],
   "source": [
    "#to read the content of a file\n",
    "example_file_path.touch()\n",
    "\n",
    "if example_file_path.exists():\n",
    "    with example_file_path.open(\"r\") as file:\n",
    "        content = file.read()\n",
    "        print(content)\n",
    "else:\n",
    "    print(\"This file does not exist.\")"
   ]
  },
  {
   "cell_type": "code",
   "execution_count": 12,
   "metadata": {},
   "outputs": [
    {
     "name": "stdout",
     "output_type": "stream",
     "text": [
      "The file does not exist.\n"
     ]
    }
   ],
   "source": [
    "if example_file_path.exists():\n",
    "    with example_file_path.open(\"r\") as file:\n",
    "        content = file.read()\n",
    "        if len(content) == 0:\n",
    "            print(\"File exist but is empty\")\n",
    "        else:\n",
    "            print(content)\n",
    "else:\n",
    "    print(\"The file does not exist.\")"
   ]
  },
  {
   "cell_type": "code",
   "execution_count": 13,
   "metadata": {},
   "outputs": [],
   "source": [
    "molecule_name = \"NanoPutian Chain\"\n",
    "molecule_image_url = \"https://github.com/jwa7/ppchem/blob/main/nanoputian_chain.png\"\n",
    "molecule_description = \"NanoPutians are a series of organic molecules whose structural formulae resemble human forms.\"\n",
    "\n",
    "molecule_info_path = current_directory / \"molecule_info.txt\"\n",
    "\n",
    "molecule_info_path.touch()\n",
    "\n",
    "with molecule_info_path.open(\"w\") as file:\n",
    "    file.write( f\"Molecule: {molecule_name}\\n\"  f\"Image URL: {molecule_image_url}\\n\"\n",
    "        f\"Description: {molecule_description}\")"
   ]
  },
  {
   "cell_type": "code",
   "execution_count": null,
   "metadata": {},
   "outputs": [],
   "source": [
    "if example_file_path.exists():\n",
    "    with example_file_path.open(\"r\") as file:\n",
    "        content = file.read()\n",
    "        if len(content) == 0:\n",
    "            print(\"File exists but is empty.\")\n",
    "        else:\n",
    "            print(content)\n",
    "else:\n",
    "    print(\"The file does not exist.\")"
   ]
  },
  {
   "cell_type": "code",
   "execution_count": null,
   "metadata": {},
   "outputs": [],
   "source": [
    "def reaction_yield(theoretical_yield, actual_yield):\n",
    "    \"\"\"\n",
    "    Calculate the percent yield of a reaction.\n",
    "    theoretical_yield: Theoretical yield in grams\n",
    "    actual_yield: Actual yield obtained from the reaction in grams\n",
    "    Returns the percent yield as a percentage.\n",
    "    \"\"\"\n",
    "    percent_yield = (actual_yield / theoretical_yield) * 100\n",
    "    return percent_yield"
   ]
  },
  {
   "cell_type": "code",
   "execution_count": null,
   "metadata": {},
   "outputs": [],
   "source": [
    "\n",
    "yield_percent = reaction_yield(10.0, 8.5)\n",
    "print(f\"Experimental yield: {yield_percent} %\")"
   ]
  },
  {
   "cell_type": "code",
   "execution_count": null,
   "metadata": {},
   "outputs": [],
   "source": [
    "yield_percent = reaction_yield(-10.0, 8.5)\n",
    "print(f\"Experimental yield: {yield_percent} %\")"
   ]
  },
  {
   "cell_type": "code",
   "execution_count": null,
   "metadata": {},
   "outputs": [],
   "source": [
    "yield_percent = reaction_yield(theoretical_yield=10.0, actual_yield=12345)\n",
    "print(f\"Experimental yield: {yield_percent} %\")"
   ]
  },
  {
   "cell_type": "code",
   "execution_count": null,
   "metadata": {},
   "outputs": [],
   "source": [
    "yield_percent = reaction_yield(\"I never took chemistry\", 101)  # passing a string and an integer\n",
    "print(f\"Experimental yield: {yield_percent} %\")"
   ]
  },
  {
   "cell_type": "code",
   "execution_count": 39,
   "metadata": {},
   "outputs": [],
   "source": [
    "def reaction_yield(theoretical_yield: float, actual_yield: float) -> float:\n",
    "    \"\"\"\n",
    "    Calculates the percent yield of a reaction.\n",
    "\n",
    "    :param theoretical_yield: float, the theoretical yield of the reaction, in grams.\n",
    "    :param actual_yield: float, the actual yield obtained from the reaction, in grams.\n",
    "    \n",
    "    :return: float, the yield of the reaction as a percentage.\n",
    "    \"\"\"\n",
    "    if not isinstance(theoretical_yield, float):\n",
    "        raise TypeError(\n",
    "            f\"Invalid type {type(theoretical_yield)}: `theoretical_yield`\"\n",
    "            \" should be passed as a float.\"\n",
    "        )\n",
    "    if not isinstance(actual_yield, float):\n",
    "        raise TypeError(\n",
    "            f\"Invalid type {type(actual_yield)}: `actual_yield`\"\n",
    "            \" should be passed as a float.\"\n",
    "        )\n",
    "\n",
    "    if theoretical_yield < 0 or actual_yield < 0:  # yields should be non-negative\n",
    "        raise ValueError(\"Input yields must be a non-negative float\")\n",
    "    if actual_yield > theoretical_yield:  \n",
    "        raise ValueError(\"acctual yield can not be more than theoretical\" )\n",
    "    percent_yield = (actual_yield / theoretical_yield) * 100\n",
    "    return percent_yield "
   ]
  },
  {
   "cell_type": "code",
   "execution_count": 41,
   "metadata": {},
   "outputs": [
    {
     "ename": "ValueError",
     "evalue": "Input yields must be a non-negative float",
     "output_type": "error",
     "traceback": [
      "\u001b[1;31m---------------------------------------------------------------------------\u001b[0m",
      "\u001b[1;31mValueError\u001b[0m                                Traceback (most recent call last)",
      "Cell \u001b[1;32mIn[41], line 1\u001b[0m\n\u001b[1;32m----> 1\u001b[0m yield_percent \u001b[38;5;241m=\u001b[39m \u001b[43mreaction_yield\u001b[49m\u001b[43m(\u001b[49m\u001b[38;5;241;43m-\u001b[39;49m\u001b[38;5;241;43m10.0\u001b[39;49m\u001b[43m,\u001b[49m\u001b[43m \u001b[49m\u001b[38;5;241;43m8.5\u001b[39;49m\u001b[43m)\u001b[49m\n\u001b[0;32m      2\u001b[0m \u001b[38;5;28mprint\u001b[39m(\u001b[38;5;124mf\u001b[39m\u001b[38;5;124m\"\u001b[39m\u001b[38;5;124mExperimental yield: \u001b[39m\u001b[38;5;132;01m{\u001b[39;00myield_percent\u001b[38;5;132;01m}\u001b[39;00m\u001b[38;5;124m %\u001b[39m\u001b[38;5;124m\"\u001b[39m)\n",
      "Cell \u001b[1;32mIn[39], line 22\u001b[0m, in \u001b[0;36mreaction_yield\u001b[1;34m(theoretical_yield, actual_yield)\u001b[0m\n\u001b[0;32m     16\u001b[0m     \u001b[38;5;28;01mraise\u001b[39;00m \u001b[38;5;167;01mTypeError\u001b[39;00m(\n\u001b[0;32m     17\u001b[0m         \u001b[38;5;124mf\u001b[39m\u001b[38;5;124m\"\u001b[39m\u001b[38;5;124mInvalid type \u001b[39m\u001b[38;5;132;01m{\u001b[39;00m\u001b[38;5;28mtype\u001b[39m(actual_yield)\u001b[38;5;132;01m}\u001b[39;00m\u001b[38;5;124m: `actual_yield`\u001b[39m\u001b[38;5;124m\"\u001b[39m\n\u001b[0;32m     18\u001b[0m         \u001b[38;5;124m\"\u001b[39m\u001b[38;5;124m should be passed as a float.\u001b[39m\u001b[38;5;124m\"\u001b[39m\n\u001b[0;32m     19\u001b[0m     )\n\u001b[0;32m     21\u001b[0m \u001b[38;5;28;01mif\u001b[39;00m theoretical_yield \u001b[38;5;241m<\u001b[39m \u001b[38;5;241m0\u001b[39m \u001b[38;5;129;01mor\u001b[39;00m actual_yield \u001b[38;5;241m<\u001b[39m \u001b[38;5;241m0\u001b[39m:  \u001b[38;5;66;03m# yields should be non-negative\u001b[39;00m\n\u001b[1;32m---> 22\u001b[0m     \u001b[38;5;28;01mraise\u001b[39;00m \u001b[38;5;167;01mValueError\u001b[39;00m(\u001b[38;5;124m\"\u001b[39m\u001b[38;5;124mInput yields must be a non-negative float\u001b[39m\u001b[38;5;124m\"\u001b[39m)\n\u001b[0;32m     23\u001b[0m \u001b[38;5;28;01mif\u001b[39;00m actual_yield \u001b[38;5;241m>\u001b[39m theoretical_yield:  \n\u001b[0;32m     24\u001b[0m     \u001b[38;5;28;01mraise\u001b[39;00m \u001b[38;5;167;01mValueError\u001b[39;00m(\u001b[38;5;124m\"\u001b[39m\u001b[38;5;124macctual yield can not be more than theoretical\u001b[39m\u001b[38;5;124m\"\u001b[39m )\n",
      "\u001b[1;31mValueError\u001b[0m: Input yields must be a non-negative float"
     ]
    }
   ],
   "source": [
    "yield_percent = reaction_yield(-10.0, 8.5)\n",
    "print(f\"Experimental yield: {yield_percent} %\")"
   ]
  },
  {
   "cell_type": "code",
   "execution_count": 37,
   "metadata": {},
   "outputs": [
    {
     "ename": "ValueError",
     "evalue": "Invalid input 'I never took chemistry': `theoretical_yield` should be passed as a float, or be convertible to a float. Original error: could not convert string to float: 'I never took chemistry'",
     "output_type": "error",
     "traceback": [
      "\u001b[1;31m---------------------------------------------------------------------------\u001b[0m",
      "\u001b[1;31mValueError\u001b[0m                                Traceback (most recent call last)",
      "Cell \u001b[1;32mIn[31], line 14\u001b[0m, in \u001b[0;36mreaction_yield\u001b[1;34m(theoretical_yield, actual_yield)\u001b[0m\n\u001b[0;32m     13\u001b[0m \u001b[38;5;28;01mtry\u001b[39;00m:  \n\u001b[1;32m---> 14\u001b[0m     theoretical_yield \u001b[38;5;241m=\u001b[39m \u001b[38;5;28;43mfloat\u001b[39;49m\u001b[43m(\u001b[49m\u001b[43mtheoretical_yield\u001b[49m\u001b[43m)\u001b[49m\n\u001b[0;32m     15\u001b[0m \u001b[38;5;28;01mexcept\u001b[39;00m \u001b[38;5;167;01mValueError\u001b[39;00m \u001b[38;5;28;01mas\u001b[39;00m e:\n",
      "\u001b[1;31mValueError\u001b[0m: could not convert string to float: 'I never took chemistry'",
      "\nDuring handling of the above exception, another exception occurred:\n",
      "\u001b[1;31mValueError\u001b[0m                                Traceback (most recent call last)",
      "Cell \u001b[1;32mIn[37], line 1\u001b[0m\n\u001b[1;32m----> 1\u001b[0m yield_percent \u001b[38;5;241m=\u001b[39m \u001b[43mreaction_yield\u001b[49m\u001b[43m(\u001b[49m\u001b[38;5;124;43m\"\u001b[39;49m\u001b[38;5;124;43mI never took chemistry\u001b[39;49m\u001b[38;5;124;43m\"\u001b[39;49m\u001b[43m,\u001b[49m\u001b[43m \u001b[49m\u001b[38;5;241;43m101\u001b[39;49m\u001b[43m)\u001b[49m\n\u001b[0;32m      2\u001b[0m \u001b[38;5;28mprint\u001b[39m(\u001b[38;5;124mf\u001b[39m\u001b[38;5;124m\"\u001b[39m\u001b[38;5;124mExperimental yield: \u001b[39m\u001b[38;5;132;01m{\u001b[39;00myield_percent\u001b[38;5;132;01m}\u001b[39;00m\u001b[38;5;124m %\u001b[39m\u001b[38;5;124m\"\u001b[39m)\n",
      "Cell \u001b[1;32mIn[31], line 16\u001b[0m, in \u001b[0;36mreaction_yield\u001b[1;34m(theoretical_yield, actual_yield)\u001b[0m\n\u001b[0;32m     14\u001b[0m         theoretical_yield \u001b[38;5;241m=\u001b[39m \u001b[38;5;28mfloat\u001b[39m(theoretical_yield)\n\u001b[0;32m     15\u001b[0m     \u001b[38;5;28;01mexcept\u001b[39;00m \u001b[38;5;167;01mValueError\u001b[39;00m \u001b[38;5;28;01mas\u001b[39;00m e:\n\u001b[1;32m---> 16\u001b[0m         \u001b[38;5;28;01mraise\u001b[39;00m \u001b[38;5;167;01mValueError\u001b[39;00m(\n\u001b[0;32m     17\u001b[0m             \u001b[38;5;124mf\u001b[39m\u001b[38;5;124m\"\u001b[39m\u001b[38;5;124mInvalid input \u001b[39m\u001b[38;5;124m'\u001b[39m\u001b[38;5;132;01m{\u001b[39;00mtheoretical_yield\u001b[38;5;132;01m}\u001b[39;00m\u001b[38;5;124m'\u001b[39m\u001b[38;5;124m: `theoretical_yield`\u001b[39m\u001b[38;5;124m\"\u001b[39m\n\u001b[0;32m     18\u001b[0m             \u001b[38;5;124m\"\u001b[39m\u001b[38;5;124m should be passed as a float, or be convertible to a float.\u001b[39m\u001b[38;5;124m\"\u001b[39m\n\u001b[0;32m     19\u001b[0m             \u001b[38;5;124mf\u001b[39m\u001b[38;5;124m\"\u001b[39m\u001b[38;5;124m Original error: \u001b[39m\u001b[38;5;132;01m{\u001b[39;00me\u001b[38;5;132;01m}\u001b[39;00m\u001b[38;5;124m\"\u001b[39m\n\u001b[0;32m     20\u001b[0m         )\n\u001b[0;32m     22\u001b[0m \u001b[38;5;28;01mif\u001b[39;00m \u001b[38;5;129;01mnot\u001b[39;00m \u001b[38;5;28misinstance\u001b[39m(actual_yield, \u001b[38;5;28mfloat\u001b[39m):\n\u001b[0;32m     23\u001b[0m     \u001b[38;5;28;01mtry\u001b[39;00m:\n",
      "\u001b[1;31mValueError\u001b[0m: Invalid input 'I never took chemistry': `theoretical_yield` should be passed as a float, or be convertible to a float. Original error: could not convert string to float: 'I never took chemistry'"
     ]
    }
   ],
   "source": [
    "yield_percent = reaction_yield(\"I never took chemistry\", 101)\n",
    "print(f\"Experimental yield: {yield_percent} %\")"
   ]
  },
  {
   "cell_type": "code",
   "execution_count": 14,
   "metadata": {},
   "outputs": [
    {
     "name": "stdout",
     "output_type": "stream",
     "text": [
      "11\n"
     ]
    }
   ],
   "source": [
    "a = 5\n",
    "b = \"6\"\n",
    "print(a + int(b))"
   ]
  },
  {
   "cell_type": "code",
   "execution_count": 15,
   "metadata": {},
   "outputs": [
    {
     "ename": "TypeError",
     "evalue": "unsupported operand type(s) for +: 'int' and 'str'",
     "output_type": "error",
     "traceback": [
      "\u001b[1;31m---------------------------------------------------------------------------\u001b[0m",
      "\u001b[1;31mTypeError\u001b[0m                                 Traceback (most recent call last)",
      "Cell \u001b[1;32mIn[15], line 3\u001b[0m\n\u001b[0;32m      1\u001b[0m a \u001b[38;5;241m=\u001b[39m \u001b[38;5;241m5\u001b[39m\n\u001b[0;32m      2\u001b[0m b \u001b[38;5;241m=\u001b[39m \u001b[38;5;124m\"\u001b[39m\u001b[38;5;124m6\u001b[39m\u001b[38;5;124m\"\u001b[39m\n\u001b[1;32m----> 3\u001b[0m \u001b[38;5;28mprint\u001b[39m(\u001b[43ma\u001b[49m\u001b[43m \u001b[49m\u001b[38;5;241;43m+\u001b[39;49m\u001b[43m \u001b[49m\u001b[43mb\u001b[49m)\n",
      "\u001b[1;31mTypeError\u001b[0m: unsupported operand type(s) for +: 'int' and 'str'"
     ]
    }
   ],
   "source": [
    "a = 5\n",
    "b = \"6\"\n",
    "print(a + b)"
   ]
  },
  {
   "cell_type": "code",
   "execution_count": 21,
   "metadata": {},
   "outputs": [],
   "source": [
    "def add_five(number: int) -> int:\n",
    "    add = number + 5\n",
    "    return add"
   ]
  },
  {
   "cell_type": "code",
   "execution_count": 25,
   "metadata": {},
   "outputs": [
    {
     "data": {
      "text/plain": [
       "11"
      ]
     },
     "execution_count": 25,
     "metadata": {},
     "output_type": "execute_result"
    }
   ],
   "source": [
    "add_five(6)"
   ]
  },
  {
   "cell_type": "code",
   "execution_count": null,
   "metadata": {},
   "outputs": [],
   "source": [
    "add_five(\"6\")"
   ]
  },
  {
   "cell_type": "code",
   "execution_count": null,
   "metadata": {},
   "outputs": [],
   "source": [
    "result = add_five(6.0)\n",
    "print(result)\n",
    "print(type(result))"
   ]
  },
  {
   "cell_type": "code",
   "execution_count": null,
   "metadata": {},
   "outputs": [],
   "source": [
    "\n",
    "result = add_five(6.0)\n",
    "print(result)\n",
    "print(type(result))"
   ]
  },
  {
   "cell_type": "code",
   "execution_count": 24,
   "metadata": {},
   "outputs": [
    {
     "ename": "TypeError",
     "evalue": "can only concatenate str (not \"int\") to str",
     "output_type": "error",
     "traceback": [
      "\u001b[1;31m---------------------------------------------------------------------------\u001b[0m",
      "\u001b[1;31mTypeError\u001b[0m                                 Traceback (most recent call last)",
      "Cell \u001b[1;32mIn[24], line 1\u001b[0m\n\u001b[1;32m----> 1\u001b[0m \u001b[43madd_five\u001b[49m\u001b[43m(\u001b[49m\u001b[38;5;124;43m\"\u001b[39;49m\u001b[38;5;124;43m6\u001b[39;49m\u001b[38;5;124;43m\"\u001b[39;49m\u001b[43m)\u001b[49m\n",
      "Cell \u001b[1;32mIn[21], line 2\u001b[0m, in \u001b[0;36madd_five\u001b[1;34m(number)\u001b[0m\n\u001b[0;32m      1\u001b[0m \u001b[38;5;28;01mdef\u001b[39;00m \u001b[38;5;21madd_five\u001b[39m(number: \u001b[38;5;28mint\u001b[39m) \u001b[38;5;241m-\u001b[39m\u001b[38;5;241m>\u001b[39m \u001b[38;5;28mint\u001b[39m:\n\u001b[1;32m----> 2\u001b[0m     add \u001b[38;5;241m=\u001b[39m \u001b[43mnumber\u001b[49m\u001b[43m \u001b[49m\u001b[38;5;241;43m+\u001b[39;49m\u001b[43m \u001b[49m\u001b[38;5;241;43m5\u001b[39;49m\n\u001b[0;32m      3\u001b[0m     \u001b[38;5;28;01mreturn\u001b[39;00m add\n",
      "\u001b[1;31mTypeError\u001b[0m: can only concatenate str (not \"int\") to str"
     ]
    }
   ],
   "source": [
    "def add_five(number: int) -> int:\n",
    "    \"\"\"Adds 5 to `number` and returns the result\"\"\"\n",
    "    return int(5 + number)"
   ]
  },
  {
   "cell_type": "code",
   "execution_count": 26,
   "metadata": {},
   "outputs": [],
   "source": [
    "def add_five(number: int) -> int:\n",
    "    \"\"\"Adds 5 to `number` and returns the result\"\"\"\n",
    "    number = int(number)\n",
    "    return 5 + number"
   ]
  },
  {
   "cell_type": "code",
   "execution_count": null,
   "metadata": {},
   "outputs": [],
   "source": [
    "result = add_five(\"6\")\n",
    "print(result)\n",
    "print(type(result))"
   ]
  },
  {
   "cell_type": "code",
   "execution_count": null,
   "metadata": {},
   "outputs": [],
   "source": [
    "result = add_five(6.0)\n",
    "print(result)\n",
    "print(type(result))"
   ]
  },
  {
   "cell_type": "code",
   "execution_count": 27,
   "metadata": {},
   "outputs": [
    {
     "ename": "ValueError",
     "evalue": "invalid literal for int() with base 10: 'hello'",
     "output_type": "error",
     "traceback": [
      "\u001b[1;31m---------------------------------------------------------------------------\u001b[0m",
      "\u001b[1;31mValueError\u001b[0m                                Traceback (most recent call last)",
      "Cell \u001b[1;32mIn[27], line 1\u001b[0m\n\u001b[1;32m----> 1\u001b[0m \u001b[43madd_five\u001b[49m\u001b[43m(\u001b[49m\u001b[38;5;124;43m\"\u001b[39;49m\u001b[38;5;124;43mhello\u001b[39;49m\u001b[38;5;124;43m\"\u001b[39;49m\u001b[43m)\u001b[49m\n",
      "Cell \u001b[1;32mIn[26], line 3\u001b[0m, in \u001b[0;36madd_five\u001b[1;34m(number)\u001b[0m\n\u001b[0;32m      1\u001b[0m \u001b[38;5;28;01mdef\u001b[39;00m \u001b[38;5;21madd_five\u001b[39m(number: \u001b[38;5;28mint\u001b[39m) \u001b[38;5;241m-\u001b[39m\u001b[38;5;241m>\u001b[39m \u001b[38;5;28mint\u001b[39m:\n\u001b[0;32m      2\u001b[0m \u001b[38;5;250m    \u001b[39m\u001b[38;5;124;03m\"\"\"Adds 5 to `number` and returns the result\"\"\"\u001b[39;00m\n\u001b[1;32m----> 3\u001b[0m     number \u001b[38;5;241m=\u001b[39m \u001b[38;5;28;43mint\u001b[39;49m\u001b[43m(\u001b[49m\u001b[43mnumber\u001b[49m\u001b[43m)\u001b[49m\n\u001b[0;32m      4\u001b[0m     \u001b[38;5;28;01mreturn\u001b[39;00m \u001b[38;5;241m5\u001b[39m \u001b[38;5;241m+\u001b[39m number\n",
      "\u001b[1;31mValueError\u001b[0m: invalid literal for int() with base 10: 'hello'"
     ]
    }
   ],
   "source": [
    "add_five(\"hello\")"
   ]
  },
  {
   "cell_type": "code",
   "execution_count": null,
   "metadata": {},
   "outputs": [],
   "source": [
    "def add_five(number: int) -> int:\n",
    "    \"\"\"Adds 5 to `number` and returns the result\"\"\"\n",
    "    \n",
    "    try:  # program attempts to execute this code\n",
    "        number = int(number)\n",
    "\n",
    "    except ValueError as e:     # unless there's an ValueError: catch it...\n",
    "        raise ValueError(  # ... and raise a new ValueError with a meaningful message\n",
    "            f\"Invalid input argument: '{number}'.\"\n",
    "            \" `number` must be an int, or convertible to an int.\"\n",
    "            f\" Original error message: {e}\"\n",
    "        )\n",
    "    \n",
    "    return 5 + number"
   ]
  },
  {
   "cell_type": "code",
   "execution_count": 28,
   "metadata": {},
   "outputs": [
    {
     "ename": "ValueError",
     "evalue": "invalid literal for int() with base 10: 'hello'",
     "output_type": "error",
     "traceback": [
      "\u001b[1;31m---------------------------------------------------------------------------\u001b[0m",
      "\u001b[1;31mValueError\u001b[0m                                Traceback (most recent call last)",
      "Cell \u001b[1;32mIn[28], line 1\u001b[0m\n\u001b[1;32m----> 1\u001b[0m \u001b[43madd_five\u001b[49m\u001b[43m(\u001b[49m\u001b[38;5;124;43m\"\u001b[39;49m\u001b[38;5;124;43mhello\u001b[39;49m\u001b[38;5;124;43m\"\u001b[39;49m\u001b[43m)\u001b[49m\n",
      "Cell \u001b[1;32mIn[26], line 3\u001b[0m, in \u001b[0;36madd_five\u001b[1;34m(number)\u001b[0m\n\u001b[0;32m      1\u001b[0m \u001b[38;5;28;01mdef\u001b[39;00m \u001b[38;5;21madd_five\u001b[39m(number: \u001b[38;5;28mint\u001b[39m) \u001b[38;5;241m-\u001b[39m\u001b[38;5;241m>\u001b[39m \u001b[38;5;28mint\u001b[39m:\n\u001b[0;32m      2\u001b[0m \u001b[38;5;250m    \u001b[39m\u001b[38;5;124;03m\"\"\"Adds 5 to `number` and returns the result\"\"\"\u001b[39;00m\n\u001b[1;32m----> 3\u001b[0m     number \u001b[38;5;241m=\u001b[39m \u001b[38;5;28;43mint\u001b[39;49m\u001b[43m(\u001b[49m\u001b[43mnumber\u001b[49m\u001b[43m)\u001b[49m\n\u001b[0;32m      4\u001b[0m     \u001b[38;5;28;01mreturn\u001b[39;00m \u001b[38;5;241m5\u001b[39m \u001b[38;5;241m+\u001b[39m number\n",
      "\u001b[1;31mValueError\u001b[0m: invalid literal for int() with base 10: 'hello'"
     ]
    }
   ],
   "source": [
    "add_five(\"hello\")"
   ]
  },
  {
   "cell_type": "code",
   "execution_count": 31,
   "metadata": {},
   "outputs": [],
   "source": [
    "def reaction_yield(theoretical_yield: float, actual_yield: float) -> float:\n",
    "    \"\"\"\n",
    "    Calculates the percent yield of a reaction.\n",
    "\n",
    "    :param theoretical_yield: float, the theoretical yield of the reaction, in grams.\n",
    "    :param actual_yield: float, the actual yield obtained from the reaction, in grams.\n",
    "    \n",
    "    :return: float, the yield of the reaction as a percentage.\n",
    "    \"\"\"\n",
    "\n",
    "    if not isinstance(theoretical_yield, float):\n",
    "        try:  \n",
    "            theoretical_yield = float(theoretical_yield)\n",
    "        except ValueError as e:\n",
    "            raise ValueError(\n",
    "                f\"Invalid input '{theoretical_yield}': `theoretical_yield`\"\n",
    "                \" should be passed as a float, or be convertible to a float.\"\n",
    "                f\" Original error: {e}\"\n",
    "            )\n",
    "\n",
    "    if not isinstance(actual_yield, float):\n",
    "        try:\n",
    "            actual_yield = float(actual_yield)\n",
    "        except ValueError as e:\n",
    "            raise ValueError(\n",
    "                f\"Invalid input '{actual_yield}': `actual_yield`\"\n",
    "                \" should be passed as a float, or be convertible to a float.\"\n",
    "                f\" Original error: {e}\"\n",
    "            )\n",
    "\n",
    "    if theoretical_yield < 0 or actual_yield < 0:  \n",
    "        raise ValueError(\"Input yields must be a non-negative float\")\n",
    "\n",
    "    if actual_yield > theoretical_yield:  \n",
    "        raise ValueError(\"Actual yield cannot be more than the theoretical yield\")\n",
    "\n",
    "\n",
    "    percent_yield = (actual_yield / theoretical_yield) * 100\n",
    "\n",
    "    return percent_yield"
   ]
  },
  {
   "cell_type": "code",
   "execution_count": 32,
   "metadata": {},
   "outputs": [
    {
     "data": {
      "text/plain": [
       "87.5"
      ]
     },
     "execution_count": 32,
     "metadata": {},
     "output_type": "execute_result"
    }
   ],
   "source": [
    "reaction_yield(\"80\", \"70\")"
   ]
  },
  {
   "cell_type": "code",
   "execution_count": 33,
   "metadata": {},
   "outputs": [
    {
     "ename": "ValueError",
     "evalue": "Invalid input 'hello': `actual_yield` should be passed as a float, or be convertible to a float. Original error: could not convert string to float: 'hello'",
     "output_type": "error",
     "traceback": [
      "\u001b[1;31m---------------------------------------------------------------------------\u001b[0m",
      "\u001b[1;31mValueError\u001b[0m                                Traceback (most recent call last)",
      "Cell \u001b[1;32mIn[31], line 24\u001b[0m, in \u001b[0;36mreaction_yield\u001b[1;34m(theoretical_yield, actual_yield)\u001b[0m\n\u001b[0;32m     23\u001b[0m \u001b[38;5;28;01mtry\u001b[39;00m:\n\u001b[1;32m---> 24\u001b[0m     actual_yield \u001b[38;5;241m=\u001b[39m \u001b[38;5;28;43mfloat\u001b[39;49m\u001b[43m(\u001b[49m\u001b[43mactual_yield\u001b[49m\u001b[43m)\u001b[49m\n\u001b[0;32m     25\u001b[0m \u001b[38;5;28;01mexcept\u001b[39;00m \u001b[38;5;167;01mValueError\u001b[39;00m \u001b[38;5;28;01mas\u001b[39;00m e:\n",
      "\u001b[1;31mValueError\u001b[0m: could not convert string to float: 'hello'",
      "\nDuring handling of the above exception, another exception occurred:\n",
      "\u001b[1;31mValueError\u001b[0m                                Traceback (most recent call last)",
      "Cell \u001b[1;32mIn[33], line 1\u001b[0m\n\u001b[1;32m----> 1\u001b[0m \u001b[43mreaction_yield\u001b[49m\u001b[43m(\u001b[49m\u001b[38;5;241;43m4.0\u001b[39;49m\u001b[43m,\u001b[49m\u001b[43m \u001b[49m\u001b[38;5;124;43m\"\u001b[39;49m\u001b[38;5;124;43mhello\u001b[39;49m\u001b[38;5;124;43m\"\u001b[39;49m\u001b[43m)\u001b[49m\n",
      "Cell \u001b[1;32mIn[31], line 26\u001b[0m, in \u001b[0;36mreaction_yield\u001b[1;34m(theoretical_yield, actual_yield)\u001b[0m\n\u001b[0;32m     24\u001b[0m         actual_yield \u001b[38;5;241m=\u001b[39m \u001b[38;5;28mfloat\u001b[39m(actual_yield)\n\u001b[0;32m     25\u001b[0m     \u001b[38;5;28;01mexcept\u001b[39;00m \u001b[38;5;167;01mValueError\u001b[39;00m \u001b[38;5;28;01mas\u001b[39;00m e:\n\u001b[1;32m---> 26\u001b[0m         \u001b[38;5;28;01mraise\u001b[39;00m \u001b[38;5;167;01mValueError\u001b[39;00m(\n\u001b[0;32m     27\u001b[0m             \u001b[38;5;124mf\u001b[39m\u001b[38;5;124m\"\u001b[39m\u001b[38;5;124mInvalid input \u001b[39m\u001b[38;5;124m'\u001b[39m\u001b[38;5;132;01m{\u001b[39;00mactual_yield\u001b[38;5;132;01m}\u001b[39;00m\u001b[38;5;124m'\u001b[39m\u001b[38;5;124m: `actual_yield`\u001b[39m\u001b[38;5;124m\"\u001b[39m\n\u001b[0;32m     28\u001b[0m             \u001b[38;5;124m\"\u001b[39m\u001b[38;5;124m should be passed as a float, or be convertible to a float.\u001b[39m\u001b[38;5;124m\"\u001b[39m\n\u001b[0;32m     29\u001b[0m             \u001b[38;5;124mf\u001b[39m\u001b[38;5;124m\"\u001b[39m\u001b[38;5;124m Original error: \u001b[39m\u001b[38;5;132;01m{\u001b[39;00me\u001b[38;5;132;01m}\u001b[39;00m\u001b[38;5;124m\"\u001b[39m\n\u001b[0;32m     30\u001b[0m         )\n\u001b[0;32m     32\u001b[0m \u001b[38;5;66;03m# Input value checks\u001b[39;00m\n\u001b[0;32m     33\u001b[0m \u001b[38;5;28;01mif\u001b[39;00m theoretical_yield \u001b[38;5;241m<\u001b[39m \u001b[38;5;241m0\u001b[39m \u001b[38;5;129;01mor\u001b[39;00m actual_yield \u001b[38;5;241m<\u001b[39m \u001b[38;5;241m0\u001b[39m:  \u001b[38;5;66;03m# yields should be non-negative\u001b[39;00m\n",
      "\u001b[1;31mValueError\u001b[0m: Invalid input 'hello': `actual_yield` should be passed as a float, or be convertible to a float. Original error: could not convert string to float: 'hello'"
     ]
    }
   ],
   "source": [
    "reaction_yield(4.0, \"hello\")"
   ]
  },
  {
   "cell_type": "code",
   "execution_count": null,
   "metadata": {},
   "outputs": [],
   "source": [
    "# Define the path object for the file and check that it exists\n",
    "reaction_yield_file = current_directory / \"reaction_yields.txt\"\n",
    "assert reaction_yield_file.exists()\n",
    "\n",
    "# Open the file\n",
    "with reaction_yield_file.open(\"r\") as file:  # \"r\" is read-mode\n",
    "\n",
    "    # Read the file and convert to a list, where each element in the list is a str\n",
    "    # containing each line.\n",
    "    lines = file.read().splitlines()  \n",
    "\n",
    "    for line_i, line in enumerate(lines):\n",
    "        print(f\"Line number: {line_i}\")\n",
    "        print(f\"    Line read from file: {line}\")\n",
    "\n",
    "        if line.startswith(\"#\"):\n",
    "            print(\"    Comment line, not extracting data\\n\")\n",
    "        else:\n",
    "            print(\"    Data line, extracting data\")\n",
    "\n",
    "            # Extract the values on each row by further splitting the line\n",
    "            line_data = line.split()\n",
    "            print(f\"    Data on line: {line_data}\")\n",
    "\n",
    "            # Unpack the values in the list\n",
    "            assert len(line_data) == 3\n",
    "            name, theoretical, actual = line_data\n",
    "            print(f\"    Data types: {[type(d) for d in line_data]}\")\n",
    "\n",
    "            # Calculate the percent yield and print the results\n",
    "            percent_yield = reaction_yield(theoretical, actual)  # call our function!\n",
    "            print(f\"    Scientist: {name}, reaction yield (%): {percent_yield}\\n\")\n",
    "\n",
    "            #WHy does it not work? Were is the file, should i create it?"
   ]
  },
  {
   "cell_type": "code",
   "execution_count": null,
   "metadata": {},
   "outputs": [],
   "source": [
    "caffeine_formula = {\"C\": 8, \"H\": 10, \"N\": 4, \"O\": 2}"
   ]
  },
  {
   "cell_type": "code",
   "execution_count": 4,
   "metadata": {},
   "outputs": [],
   "source": [
    "def get_number_of_atoms(chemical_formula_dict: dict) -> int:\n",
    "    \"\"\"\n",
    "    Calculates the total number of atoms from the dictionary representation of the\n",
    "    chemical formula.\n",
    "\n",
    "    For instance, caffeine is represented by: {\"C\": 8, \"H\": 10, \"N\": 4, \"O\": 2}\n",
    "\n",
    "    :param chemical_formula_dict: dict, where keys are the atomic symbols and values are\n",
    "        the number of atoms of that type.\n",
    "\n",
    "    :return: int, the total number of atoms in the chemical formula.\n",
    "    \"\"\"\n",
    "    total_number_of_atoms = 0\n",
    "    for symbol, count in chemical_formula_dict.items():\n",
    "        # Check the keys and values of the input\n",
    "        if not isinstance(symbol, str):\n",
    "            raise TypeError(\n",
    "                f\"Invalid type {type(symbol)}: atomic symbols should be passed as strings.\"\n",
    "            )\n",
    "        if not isinstance(count, int):\n",
    "            raise TypeError(\n",
    "                f\"Invalid type {type(count)}: atomic counts should be passed as integers.\"\n",
    "            )\n",
    "        if count < 0:\n",
    "            raise ValueError(\"Atomic counts should be non-negative integers.\")\n",
    "\n",
    "        total_number_of_atoms = total_number_of_atoms + chemical_formula_dict[symbol] \n",
    "\n",
    "    return total_number_of_atoms\n"
   ]
  },
  {
   "cell_type": "code",
   "execution_count": 6,
   "metadata": {},
   "outputs": [
    {
     "name": "stdout",
     "output_type": "stream",
     "text": [
      "24\n"
     ]
    }
   ],
   "source": [
    "caffeine_formula = {\"C\": 8, \"H\": 10, \"N\": 4, \"O\": 2}\n",
    "print(get_number_of_atoms(caffeine_formula))\n"
   ]
  },
  {
   "cell_type": "code",
   "execution_count": 7,
   "metadata": {},
   "outputs": [],
   "source": [
    "def calculate_molecular_mass(chemical_formula_dict: dict) -> float:\n",
    "        \"\"\"\n",
    "    Calculates the total mass of the molecule\n",
    "\n",
    "    For instance, caffeine is represented by: {\"C\": 8, \"H\": 10, \"N\": 4, \"O\": 2}\n",
    "\n",
    "    :param chemical_formula_dict: dict, where the symbol is the atomic mass up to argon and the count is the atomic mass.\n",
    "\n",
    "    :return: int, the total molecular mass of a molecule.\n",
    "    \"\"\"\n",
    "        \n",
    "        atomic_masses = {\n",
    "        \"H\": 1.008,\n",
    "        \"He\": 4.002602,\n",
    "        \"Li\": 6.94,\n",
    "        \"Be\": 9.0121831,\n",
    "        \"B\": 10.81,\n",
    "        \"C\": 12.01,  \n",
    "        \"N\": 14.007,\n",
    "        \"O\": 15.999,\n",
    "        \"F\": 18.998403163,\n",
    "        \"Ne\": 20.1797,\n",
    "        \"Na\": 22.98976928,\n",
    "        \"Mg\": 24.305,\n",
    "        \"Al\": 26.9815385,\n",
    "        \"Si\": 28.085,\n",
    "        \"P\": 30.973761998,\n",
    "        \"S\": 32.06,\n",
    "        \"Cl\": 35.45,\n",
    "        \"Ar\": 39.948,\n",
    "    }\n",
    "        molecular_mass=0\n",
    "        for symbol,count in chemical_formula_dict.items():\n",
    "                molecular_mass += ATOMIC_MASSES[symbol]* count\n",
    "        return molecular_mass\n",
    "                "
   ]
  },
  {
   "cell_type": "code",
   "execution_count": 8,
   "metadata": {},
   "outputs": [],
   "source": [
    "class Molecule:\n",
    "    \"\"\"\n",
    "    A class to represent some useful information about a molecule.\n",
    "    \"\"\"\n",
    "    def __init__(self, name: str, chemical_formula_dict: dict):\n",
    "        \"\"\"\n",
    "        Initializes a Molecule object with a name and a chemical formula.\n",
    "        \"\"\"\n",
    "        self.name = name\n",
    "        self.chemical_formula_dict = chemical_formula_dict\n",
    "        self.chemical_formula_str = self.chemical_formula_str()\n",
    "\n",
    "    def __repr__(self):\n",
    "        return f\"Molecule(name='{self.name}', formula={self.chemical_formula_str})\"\n",
    "\n",
    "    def chemical_formula_str(self) -> str:\n",
    "        \"\"\"\n",
    "        Returns a string representation of the chemical formula.\n",
    "        \"\"\"\n",
    "        formula_str = \"\"\n",
    "        for symbol, count in self.chemical_formula_dict.items():\n",
    "            formula_str += f\"{symbol}{count}\"\n",
    "        return formula_str"
   ]
  },
  {
   "cell_type": "code",
   "execution_count": 9,
   "metadata": {},
   "outputs": [],
   "source": [
    "caffeine_formula = {\"C\": 8, \"H\": 10, \"N\": 4, \"O\": 2}\n",
    "\n",
    "# \"Instantiate\" a Molecule object\n",
    "caffeine_molecule = Molecule(\"Caffeine\", caffeine_formula)"
   ]
  },
  {
   "cell_type": "code",
   "execution_count": 10,
   "metadata": {},
   "outputs": [
    {
     "name": "stdout",
     "output_type": "stream",
     "text": [
      "Molecule(name='Caffeine', formula=C8H10N4O2)\n"
     ]
    }
   ],
   "source": [
    "print(caffeine_molecule)"
   ]
  },
  {
   "cell_type": "code",
   "execution_count": 11,
   "metadata": {},
   "outputs": [],
   "source": [
    "class Molecule:\n",
    "    \"\"\"\n",
    "    A class to represent some useful information about a molecule.\n",
    "    \"\"\"\n",
    "    def __init__(self, name: str, chemical_formula_dict: dict):\n",
    "        \"\"\"\n",
    "        Initializes a Molecule object with a name and a chemical formula.\n",
    "        \"\"\"\n",
    "        self.name = name\n",
    "        self.chemical_formula_dict = chemical_formula_dict\n",
    "        self.chemical_formula_str = self.chemical_formula_str()\n",
    "        # TODO 3: call the class methods to set the following class attributes\n",
    "        self.number_of_atoms = self.get_number_of_atoms()\n",
    "        self.molecular_mass = self.calculate_molecular_mass()\n",
    "\n",
    "    def __repr__(self):\n",
    "        return f\"Molecule(name='{self.name}', formula={self.chemical_formula_str})\"\n",
    "\n",
    "    def chemical_formula_str(self) -> str:\n",
    "        \"\"\"\n",
    "        Returns a string representation of the chemical formula.\n",
    "        \"\"\"\n",
    "        formula_str = \"\"\n",
    "        for symbol, count in self.chemical_formula_dict.items():\n",
    "            formula_str += f\"{symbol}{count}\"\n",
    "        return formula_str\n",
    "\n",
    "    def get_number_of_atoms(self) -> int:\n",
    "        \"\"\"\n",
    "        Calculates the total number of atoms from the dictionary representation of the\n",
    "        chemical formula.\n",
    "\n",
    "        For instance, caffeine is represented by: {\"C\": 8, \"H\": 10, \"N\": 4, \"O\": 2}\n",
    "\n",
    "        :param chemical_formula_dict: dict, where keys are the atomic symbols and values\n",
    "            are the number of atoms of that type.\n",
    "\n",
    "        :return: int, the total number of atoms in the chemical formula.\n",
    "        \"\"\"\n",
    "        total_number_of_atoms = 0\n",
    "        for symbol, count in self.chemical_formula_dict.items():\n",
    "            # Check the keys and values of the input\n",
    "            if not isinstance(symbol, str):\n",
    "                raise TypeError(\n",
    "                    f\"Invalid type {type(symbol)}: atomic symbols should be passed as strings.\"\n",
    "                )\n",
    "            if not isinstance(count, int):\n",
    "                raise TypeError(\n",
    "                    f\"Invalid type {type(count)}: atomic counts should be passed as integers.\"\n",
    "                )\n",
    "            if count < 0:\n",
    "                raise ValueError(\"Atomic counts should be non-negative integers.\")\n",
    "\n",
    "            # Accumulate the total number of atoms\n",
    "            total_number_of_atoms += count\n",
    "\n",
    "        return total_number_of_atoms\n",
    "\n",
    "    def calculate_molecular_mass(self) -> float:\n",
    "        \"\"\"\n",
    "        Calculates the molecular mass of a chemical formula.\n",
    "        \"\"\"\n",
    "        # Dictionary of {symbol: atomic mass} up to Argon\n",
    "        atomic_masses = {\n",
    "            \"H\": 1.008,\n",
    "            \"He\": 4.002602,\n",
    "            \"Li\": 6.94,\n",
    "            \"Be\": 9.0121831,\n",
    "            \"B\": 10.81,\n",
    "            \"C\": 12.011,\n",
    "            \"N\": 14.007,\n",
    "            \"O\": 15.999,\n",
    "            \"F\": 18.998403163,\n",
    "            \"Ne\": 20.1797,\n",
    "            \"Na\": 22.98976928,\n",
    "            \"Mg\": 24.305,\n",
    "            \"Al\": 26.9815385,\n",
    "            \"Si\": 28.085,\n",
    "            \"P\": 30.973761998,\n",
    "            \"S\": 32.06,\n",
    "            \"Cl\": 35.45,\n",
    "            \"Ar\": 39.948,\n",
    "        }\n",
    "        molecular_mass = 0\n",
    "        for symbol, count in self.chemical_formula_dict.items():\n",
    "            if symbol not in atomic_masses:\n",
    "                raise ValueError(\n",
    "                    f\"Invalid atomic symbol: {symbol}. Currently can only\"\n",
    "                    \" calculate the molecular mass for molecules containing\"\n",
    "                    \" atoms up to Argon (Ar).\"\n",
    "                )\n",
    "            molecular_mass += atomic_masses[symbol] * count\n",
    "\n",
    "        return molecular_mass"
   ]
  },
  {
   "cell_type": "code",
   "execution_count": 12,
   "metadata": {},
   "outputs": [
    {
     "name": "stdout",
     "output_type": "stream",
     "text": [
      "Name: Caffeine\n",
      "Chemical formula: C8H10N4O2\n",
      "Number of atoms: 24\n",
      "Molecular mass: 194.194\n"
     ]
    }
   ],
   "source": [
    "caffeine_molecule = Molecule(\"Caffeine\", {\"C\": 8, \"H\": 10, \"N\": 4, \"O\": 2})\n",
    "\n",
    "print(f\"Name: {caffeine_molecule.name}\")\n",
    "print(f\"Chemical formula: {caffeine_molecule.chemical_formula_str}\")\n",
    "print(f\"Number of atoms: {caffeine_molecule.number_of_atoms}\")\n",
    "print(f\"Molecular mass: {caffeine_molecule.molecular_mass}\")"
   ]
  },
  {
   "cell_type": "code",
   "execution_count": 13,
   "metadata": {},
   "outputs": [],
   "source": [
    "molecule_names_and_formula = [\n",
    "    (\"Caffeine\", {\"C\": 8, \"H\": 10, \"N\": 4, \"O\": 2}),\n",
    "    (\"Water\", {\"H\": 2, \"O\": 1}),\n",
    "    (\"Carbon Dioxide\", {\"C\": 1, \"O\": 2}),\n",
    "    (\"Glucose\", {\"C\": 6, \"H\": 12, \"O\": 6}),\n",
    "    (\"Ethanol\", {\"C\": 2, \"H\": 6, \"O\": 1}),\n",
    "    (\"Acetic Acid\", {\"C\": 2, \"H\": 4, \"O\": 2}),\n",
    "    (\"Ammonia\", {\"N\": 1, \"H\": 3}),\n",
    "    (\"Methane\", {\"C\": 1, \"H\": 4}),\n",
    "    (\"Hydrochloric Acid\", {\"H\": 1, \"Cl\": 1}),\n",
    "    (\"Nitrous Oxide\", {\"N\": 2, \"O\": 1}),\n",
    "]\n",
    "\n",
    "molecules = []\n",
    "for (name, formula) in molecule_names_and_formula:\n",
    "    molecule_object = Molecule(name, formula)\n",
    "    molecules.append(molecule_object)"
   ]
  },
  {
   "cell_type": "code",
   "execution_count": 14,
   "metadata": {},
   "outputs": [
    {
     "name": "stdout",
     "output_type": "stream",
     "text": [
      "Name: Caffeine\n",
      "Chemical formula: C8H10N4O2\n",
      "Number of atoms: 24\n",
      "Molecular mass: 194.194\n",
      "\n",
      "Name: Water\n",
      "Chemical formula: H2O1\n",
      "Number of atoms: 3\n",
      "Molecular mass: 18.015\n",
      "\n",
      "Name: Carbon Dioxide\n",
      "Chemical formula: C1O2\n",
      "Number of atoms: 3\n",
      "Molecular mass: 44.009\n",
      "\n",
      "Name: Glucose\n",
      "Chemical formula: C6H12O6\n",
      "Number of atoms: 24\n",
      "Molecular mass: 180.156\n",
      "\n",
      "Name: Ethanol\n",
      "Chemical formula: C2H6O1\n",
      "Number of atoms: 9\n",
      "Molecular mass: 46.069\n",
      "\n",
      "Name: Acetic Acid\n",
      "Chemical formula: C2H4O2\n",
      "Number of atoms: 8\n",
      "Molecular mass: 60.052\n",
      "\n",
      "Name: Ammonia\n",
      "Chemical formula: N1H3\n",
      "Number of atoms: 4\n",
      "Molecular mass: 17.031\n",
      "\n",
      "Name: Methane\n",
      "Chemical formula: C1H4\n",
      "Number of atoms: 5\n",
      "Molecular mass: 16.043\n",
      "\n",
      "Name: Hydrochloric Acid\n",
      "Chemical formula: H1Cl1\n",
      "Number of atoms: 2\n",
      "Molecular mass: 36.458000000000006\n",
      "\n",
      "Name: Nitrous Oxide\n",
      "Chemical formula: N2O1\n",
      "Number of atoms: 3\n",
      "Molecular mass: 44.013\n",
      "\n"
     ]
    }
   ],
   "source": [
    "for molecule in molecules:\n",
    "    print(f\"Name: {molecule.name}\")\n",
    "    print(f\"Chemical formula: {molecule.chemical_formula_str}\")\n",
    "    print(f\"Number of atoms: {molecule.number_of_atoms}\")\n",
    "    print(f\"Molecular mass: {molecule.molecular_mass}\\n\")"
   ]
  },
  {
   "cell_type": "code",
   "execution_count": null,
   "metadata": {},
   "outputs": [],
   "source": []
  }
 ],
 "metadata": {
  "kernelspec": {
   "display_name": "Python 3",
   "language": "python",
   "name": "python3"
  },
  "language_info": {
   "codemirror_mode": {
    "name": "ipython",
    "version": 3
   },
   "file_extension": ".py",
   "mimetype": "text/x-python",
   "name": "python",
   "nbconvert_exporter": "python",
   "pygments_lexer": "ipython3",
   "version": "3.10.4"
  }
 },
 "nbformat": 4,
 "nbformat_minor": 2
}
