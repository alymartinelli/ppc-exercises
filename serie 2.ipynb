{
 "cells": [
  {
   "cell_type": "code",
   "execution_count": null,
   "metadata": {},
   "outputs": [],
   "source": [
    "print(\"hello world\")"
   ]
  },
  {
   "cell_type": "code",
   "execution_count": null,
   "metadata": {},
   "outputs": [],
   "source": [
    "#Q1a\n",
    "atom = \"Oxygen\"\n",
    "atomic_number = 8\n",
    "output= atom + str(atomic_number)\n",
    "assert output == \"Oxygen8\"\n",
    "\n",
    "print(output)"
   ]
  },
  {
   "cell_type": "code",
   "execution_count": null,
   "metadata": {},
   "outputs": [],
   "source": [
    "#Q1b\n",
    "flo_point= 20.2\n",
    "integer= 4\n",
    "\n",
    "addition= flo_point + integer\n",
    "print(addition)\n",
    "multiplication=flo_point * integer\n",
    "print(multiplication)\n",
    "division = flo_point / integer\n",
    "print(division)"
   ]
  },
  {
   "cell_type": "code",
   "execution_count": null,
   "metadata": {},
   "outputs": [],
   "source": [
    "#Q1c\n",
    "a = False \n",
    "b= True \n",
    "c= False\n",
    "\n",
    "c_1 = a and b\n",
    "print(c_1)\n",
    "c_2= a or b\n",
    "print(c_2)\n",
    "c_3= not a\n",
    "print(c_3)\n",
    "c_4 = not b and not c\n",
    "print(c_4)\n",
    "c_5 = (a and b) or c \n",
    "print(c_5)\n",
    "\n",
    "\n"
   ]
  },
  {
   "cell_type": "code",
   "execution_count": null,
   "metadata": {},
   "outputs": [],
   "source": [
    "#Q1d\n",
    "a= True\n",
    "b= False\n",
    "c = True\n",
    "\n",
    "if a:\n",
    "    if not c:\n",
    "        print(\"Answer 1\")\n",
    "    elif c and b:\n",
    "        print(\"Answer 2\")\n",
    "    print(\"Answer 3\")\n",
    "else:\n",
    "    print(\"Answer 4\")"
   ]
  },
  {
   "cell_type": "code",
   "execution_count": null,
   "metadata": {},
   "outputs": [],
   "source": [
    "#Q1e\n",
    "a = \"Hydrogen\"\n",
    "b= \"oxygen\"\n",
    "c = 1\n",
    "d = 0\n",
    "e = \" \"\n",
    "f = -3\n",
    "e = None\n",
    "\n",
    "print(a and b)\n",
    "print(c and not f)\n",
    "print(d or e)\n",
    "print(e and not a)"
   ]
  },
  {
   "cell_type": "code",
   "execution_count": null,
   "metadata": {},
   "outputs": [],
   "source": [
    "#Q2a\n",
    "elements = [[\"Hydrogen\", \"Helium\", \"Lithium\"],[ \"Beryllium\", \"Boron\", \"Carbon\"], [\"Nitrogen\"]]\n",
    "whacky_list = [1, \"dog\", 3.14, [4, 5, 6]]\n",
    "\n",
    "print(elements[1][1])\n",
    "print(whacky_list)"
   ]
  },
  {
   "cell_type": "code",
   "execution_count": null,
   "metadata": {},
   "outputs": [],
   "source": [
    "#Q2b\n",
    "element_list= [\"Hydrogen\", \"Helium\", \"Lithium\", \"Beryllium\", \"Boron\"]\n",
    "print(element_list[0])\n",
    "element_list.append(\"Lead\")\n",
    "print(element_list)\n",
    "\n",
    "\n",
    "element_list.insert(1, \"Helium\")\n",
    "print(element_list)\n",
    "\n",
    "element_list.remove(\"Hydrogen\")\n",
    "print(element_list)"
   ]
  },
  {
   "cell_type": "code",
   "execution_count": null,
   "metadata": {},
   "outputs": [],
   "source": [
    "element_list= [\"Hydrogen\", \"Helium\", \"Lithium\", \"Beryllium\", \"Boron\"]\n",
    "a = element_list.pop(-1)\n",
    "print(a)\n",
    "b= element_list.pop(1)\n",
    "print(b)\n",
    "\n",
    "print(element_list)\n",
    "\n",
    "element_list.clear()\n",
    "print(element_list)"
   ]
  },
  {
   "cell_type": "code",
   "execution_count": null,
   "metadata": {},
   "outputs": [],
   "source": [
    "element_list_1 = [\"Hydrogen\", \"Helium\", \"Lithium\", \"Beryllium\", \"Boron\"]\n",
    "element_list_2 = [\"Nitrogen\", \"Oxygen\", \"Fluorine\"]\n",
    "element_list_3 = element_list_1 + element_list_2\n",
    "print(element_list_3)\n",
    "\n",
    "print(len(element_list_3))"
   ]
  },
  {
   "cell_type": "code",
   "execution_count": null,
   "metadata": {},
   "outputs": [],
   "source": [
    "element_list = [\"Hydrogen\", \"Helium\", \"Lithium\", \"Beryllium\", \"Boron\", \"Carbon\", \"Nitrogen\", \"Oxygen\", \"Fluorine\"]\n",
    "start = 0\n",
    "end = 3\n",
    "\n",
    "element_list[start:end]"
   ]
  },
  {
   "cell_type": "code",
   "execution_count": null,
   "metadata": {},
   "outputs": [],
   "source": [
    "#Q2d\n",
    "element_list= [\"Hydrogen\", \"Helium\", \"Lithium\", \"Beryllium\", \"Boron\", \"Carbon\", \"Nitrogen\", \"Oxygen\", \"Fluorine\"]\n",
    "element_list_1= [ ]\n",
    "for i in range (-3,-1):\n",
    "    a = element_list[i]\n",
    "    element_list_1= element_list_1.append(a)\n",
    "\n",
    "print(element_list_1)\n",
    " #???"
   ]
  },
  {
   "cell_type": "code",
   "execution_count": null,
   "metadata": {},
   "outputs": [],
   "source": [
    "#q2d\n",
    "element_list= [\"Hydrogen\", \"Helium\", \"Lithium\", \"Beryllium\", \"Boron\", \"Carbon\", \"Nitrogen\", \"Oxygen\", \"Fluorine\"]\n",
    "print(element_list[0:6:2])"
   ]
  },
  {
   "cell_type": "code",
   "execution_count": null,
   "metadata": {},
   "outputs": [],
   "source": [
    "#Q2f\n",
    "element_list= [\"Hydrogen\", \"Helium\", \"Lithium\", \"Beryllium\", \"Boron\", \"Carbon\", \"Nitrogen\", \"Oxygen\", \"Fluorine\"]\n",
    "print(element_list[::2])\n",
    "a = len(element_list)\n",
    "print(element_list[0:a:2])"
   ]
  },
  {
   "cell_type": "code",
   "execution_count": 2,
   "metadata": {},
   "outputs": [
    {
     "data": {
      "text/plain": [
       "True"
      ]
     },
     "execution_count": 2,
     "metadata": {},
     "output_type": "execute_result"
    }
   ],
   "source": [
    "#Q2h\n",
    "\n",
    "test_even = [\"Hydrogen\", \"Helium\", \"Lithium\", \"Beryllium\", \"Boron\", \"Carbon\", \"Nitrogen\", \"Oxygen\", \"Fluorine\", \"Sodium\"]\n",
    "test_odd = [\"Hydrogen\", \"Helium\", \"Lithium\", \"Beryllium\", \"Boron\", \"Carbon\", \"Nitrogen\", \"Oxygen\", \"Fluorine\"]\n",
    "\n",
    "\n",
    "middle_index = len(test_even) // 2\n",
    "first_half = test_even[:middle_index]\n",
    "second_half = test_even[middle_index:]\n",
    "\n",
    "assert (middle_index, first_half, second_half) == (5, [\"Hydrogen\", \"Helium\", \"Lithium\", \"Beryllium\", \"Boron\"], [\"Carbon\", \"Nitrogen\", \"Oxygen\", \"Fluorine\", \"Sodium\"])\n",
    "\n",
    "\n",
    "middle_index = (len(test_odd) + 1) // 2\n",
    "first_half = test_odd[:middle_index]\n",
    "second_half = test_odd[middle_index:]\n",
    "\n",
    "(middle_index, first_half, second_half) == (5, [\"Hydrogen\", \"Helium\", \"Lithium\", \"Beryllium\", \"Boron\"], [\"Carbon\", \"Nitrogen\", \"Oxygen\", \"Fluorine\"])"
   ]
  },
  {
   "cell_type": "code",
   "execution_count": null,
   "metadata": {},
   "outputs": [],
   "source": [
    "#Theory\n",
    "acid_bases = {'NaBH4' : 'Base', 'H2SO4' : 'Acid', 'NaOH' : 'Base'}\n",
    "print(acid_bases['NaBH4'])\n",
    "\n",
    "acid_bases['HCl'] = 'Acid'\n",
    "del acid_bases['HCl']"
   ]
  },
  {
   "cell_type": "code",
   "execution_count": 12,
   "metadata": {},
   "outputs": [
    {
     "name": "stdout",
     "output_type": "stream",
     "text": [
      "4\n"
     ]
    }
   ],
   "source": [
    "#Q3a\n",
    "\n",
    "initial_concentration= 50\n",
    "final_concentration = 3\n",
    "dilutiom_count= 0\n",
    "\n",
    "while initial_concentration > final_concentration:\n",
    "    initial_concentration= initial_concentration//2\n",
    "    dilutiom_count = dilutiom_count + 1\n",
    "print(\"The substance needs to be diluted{dilutiom_count} times to reach the desired concentration\")"
   ]
  },
  {
   "cell_type": "code",
   "execution_count": null,
   "metadata": {},
   "outputs": [],
   "source": [
    "#Q3b"
   ]
  },
  {
   "cell_type": "code",
   "execution_count": 13,
   "metadata": {},
   "outputs": [
    {
     "name": "stdout",
     "output_type": "stream",
     "text": [
      "10\n",
      "9\n",
      "8\n",
      "7\n",
      "6\n",
      "5\n",
      "4\n",
      "3\n",
      "2\n"
     ]
    }
   ],
   "source": [
    "#Q3c\n",
    "numa = 11\n",
    "while numa > 2.5:\n",
    "    numa = numa - 1\n",
    "    print(numa)\n",
    "#will give 3 --> no the print is inside the loop!"
   ]
  },
  {
   "cell_type": "code",
   "execution_count": 14,
   "metadata": {},
   "outputs": [
    {
     "name": "stdout",
     "output_type": "stream",
     "text": [
      "0.0\n",
      "0.8\n",
      "1.6\n",
      "2.4\n",
      "3.2\n"
     ]
    }
   ],
   "source": [
    "numb = 2.5\n",
    "for i in range(0, 10, 2):\n",
    "    pass\n",
    "    print(i/numb)\n",
    "#will print i/2 with i= 0, 2, 4, ..."
   ]
  },
  {
   "cell_type": "code",
   "execution_count": 15,
   "metadata": {},
   "outputs": [
    {
     "name": "stdout",
     "output_type": "stream",
     "text": [
      "10.2\n",
      "9.2\n",
      "8.2\n",
      "7.199999999999999\n"
     ]
    }
   ],
   "source": [
    "#Q3e\n",
    "numc = 10.2 \n",
    "while True:\n",
    "    if numc < 6.2:\n",
    "        break\n",
    "    print(numc)\n",
    "    numc -= 1\n",
    "#will print 10.2 9.2 8.2... until but not 6.2"
   ]
  },
  {
   "cell_type": "code",
   "execution_count": 17,
   "metadata": {},
   "outputs": [
    {
     "name": "stdout",
     "output_type": "stream",
     "text": [
      "Collected string is 0124012F0124012F?!?\n"
     ]
    }
   ],
   "source": [
    "#Q3f\n",
    "collected_strings = []\n",
    "\n",
    "for i in range(1, 5):\n",
    "    if i % 2 == 0:  #reste division = 0\n",
    "        for j in range(5): #exit but do nothing else\n",
    "            if j == 3:\n",
    "                break #get out of the loop\n",
    "            collected_strings.append(str(j))\n",
    "        collected_strings.append(str('F')) #add F\n",
    "    else:  \n",
    "        for j in range(5):\n",
    "            if j == 3:\n",
    "                continue\n",
    "            elif j == 4:\n",
    "                pass #when j=4 do nothing\n",
    "            collected_strings.append(str(j)) #else add j\n",
    "\n",
    "\n",
    "for i in range(3):\n",
    "    if i == 1:\n",
    "        collected_strings.append(\"!\")\n",
    "        continue\n",
    "    collected_strings.append(\"?\")# when i !=1 add ?\n",
    "\n",
    "collect_str = \"\".join(collected_strings)\n",
    "print(f'Collected string is {collect_str}')"
   ]
  },
  {
   "cell_type": "code",
   "execution_count": 18,
   "metadata": {},
   "outputs": [
    {
     "ename": "KeyboardInterrupt",
     "evalue": "",
     "output_type": "error",
     "traceback": [
      "\u001b[1;31m---------------------------------------------------------------------------\u001b[0m",
      "\u001b[1;31mKeyboardInterrupt\u001b[0m                         Traceback (most recent call last)",
      "Cell \u001b[1;32mIn[18], line 4\u001b[0m\n\u001b[0;32m      2\u001b[0m i \u001b[38;5;241m=\u001b[39m \u001b[38;5;241m10\u001b[39m\n\u001b[0;32m      3\u001b[0m \u001b[38;5;28;01mwhile\u001b[39;00m i \u001b[38;5;241m>\u001b[39m \u001b[38;5;241m0\u001b[39m:\n\u001b[1;32m----> 4\u001b[0m     \u001b[38;5;28;01mif\u001b[39;00m \u001b[43mi\u001b[49m\u001b[43m \u001b[49m\u001b[38;5;241;43m%\u001b[39;49m\u001b[43m \u001b[49m\u001b[38;5;241;43m2\u001b[39;49m\u001b[43m \u001b[49m\u001b[38;5;241;43m==\u001b[39;49m\u001b[43m \u001b[49m\u001b[38;5;241;43m0\u001b[39;49m:\n\u001b[0;32m      5\u001b[0m         i\u001b[38;5;241m=\u001b[39mi\u001b[38;5;241m/\u001b[39m\u001b[38;5;241m2\u001b[39m\n\u001b[0;32m      6\u001b[0m     \u001b[38;5;28;01melse\u001b[39;00m: \n",
      "\u001b[1;31mKeyboardInterrupt\u001b[0m: "
     ]
    }
   ],
   "source": [
    "\n",
    "n = 10 \n",
    "i = 10\n",
    "while i > 0:\n",
    "    if i % 2 == 0:\n",
    "        i=i/2\n",
    "    else: \n",
    "        i=i+1\n",
    "#infinite loop because it is never <0 so while never end!"
   ]
  }
 ],
 "metadata": {
  "kernelspec": {
   "display_name": "Python 3",
   "language": "python",
   "name": "python3"
  },
  "language_info": {
   "codemirror_mode": {
    "name": "ipython",
    "version": 3
   },
   "file_extension": ".py",
   "mimetype": "text/x-python",
   "name": "python",
   "nbconvert_exporter": "python",
   "pygments_lexer": "ipython3",
   "version": "3.10.4"
  }
 },
 "nbformat": 4,
 "nbformat_minor": 2
}
