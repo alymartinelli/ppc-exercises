{
 "cells": [
  {
   "cell_type": "code",
   "execution_count": 1,
   "id": "002a7d75-48d9-4554-bdf3-3b9e76299a2e",
   "metadata": {},
   "outputs": [
    {
     "name": "stdout",
     "output_type": "stream",
     "text": [
      "hello world\n"
     ]
    }
   ],
   "source": [
    "print(\"hello world\")"
   ]
  },
  {
   "cell_type": "code",
   "execution_count": 6,
   "id": "1d0ea50e-2be1-47de-837f-283ef5d176d5",
   "metadata": {},
   "outputs": [
    {
     "name": "stdout",
     "output_type": "stream",
     "text": [
      "Oxygen8\n"
     ]
    }
   ],
   "source": [
    "#Q1a\n",
    "atom = \"Oxygen\"\n",
    "atomic_number = 8\n",
    "output= atom + str(atomic_number)\n",
    "assert output == \"Oxygen8\"\n",
    "\n",
    "print(output)"
   ]
  },
  {
   "cell_type": "code",
   "execution_count": 7,
   "id": "15ed38b9-61a9-4b94-a22c-44e3c7219f68",
   "metadata": {},
   "outputs": [
    {
     "name": "stdout",
     "output_type": "stream",
     "text": [
      "24.2\n",
      "80.8\n",
      "5.05\n"
     ]
    }
   ],
   "source": [
    "#Q1b\n",
    "flo_point= 20.2\n",
    "integer= 4\n",
    "\n",
    "addition= flo_point + integer\n",
    "print(addition)\n",
    "multiplication=flo_point * integer\n",
    "print(multiplication)\n",
    "division = flo_point / integer\n",
    "print(division)"
   ]
  },
  {
   "cell_type": "code",
   "execution_count": 9,
   "id": "6991c5c3-6f4c-4c5b-9d78-9e5f9c78d319",
   "metadata": {},
   "outputs": [
    {
     "name": "stdout",
     "output_type": "stream",
     "text": [
      "False\n",
      "True\n",
      "True\n",
      "False\n",
      "False\n"
     ]
    }
   ],
   "source": [
    "#Q1c\n",
    "a = False \n",
    "b= True \n",
    "c= False\n",
    "\n",
    "c_1 = a and b\n",
    "print(c_1)\n",
    "c_2= a or b\n",
    "print(c_2)\n",
    "c_3= not a\n",
    "print(c_3)\n",
    "c_4 = not b and not c\n",
    "print(c_4)\n",
    "c_5 = (a and b) or c \n",
    "print(c_5)\n",
    "\n",
    "\n"
   ]
  },
  {
   "cell_type": "code",
   "execution_count": 12,
   "id": "beae8b11-2237-4580-bc71-245396513efe",
   "metadata": {},
   "outputs": [
    {
     "name": "stdout",
     "output_type": "stream",
     "text": [
      "Answer 3\n"
     ]
    }
   ],
   "source": [
    "#Q1d\n",
    "a= True\n",
    "b= False\n",
    "c = True\n",
    "\n",
    "if a:\n",
    "    if not c:\n",
    "        print(\"Answer 1\")\n",
    "    elif c and b:\n",
    "        print(\"Answer 2\")\n",
    "    print(\"Answer 3\")\n",
    "else:\n",
    "    print(\"Answer 4\")"
   ]
  },
  {
   "cell_type": "code",
   "execution_count": 14,
   "id": "da582393-b178-4865-a734-3dd93caff83f",
   "metadata": {},
   "outputs": [
    {
     "name": "stdout",
     "output_type": "stream",
     "text": [
      "oxygen\n",
      "False\n",
      "None\n",
      "None\n"
     ]
    }
   ],
   "source": [
    "#Q1e\n",
    "a = \"Hydrogen\"\n",
    "b= \"oxygen\"\n",
    "c = 1\n",
    "d = 0\n",
    "e = \" \"\n",
    "f = -3\n",
    "e = None\n",
    "\n",
    "print(a and b)\n",
    "print(c and not f)\n",
    "print(d or e)\n",
    "print(e and not a)"
   ]
  },
  {
   "cell_type": "code",
   "execution_count": 16,
   "id": "ebec89f1-87e3-4d52-8e46-6840a30ad1a1",
   "metadata": {},
   "outputs": [
    {
     "name": "stdout",
     "output_type": "stream",
     "text": [
      "Boron\n",
      "[1, 'dog', 3.14, [4, 5, 6]]\n"
     ]
    }
   ],
   "source": [
    "#Q2a\n",
    "elements = [[\"Hydrogen\", \"Helium\", \"Lithium\"],[ \"Beryllium\", \"Boron\", \"Carbon\"], [\"Nitrogen\"]]\n",
    "whacky_list = [1, \"dog\", 3.14, [4, 5, 6]]\n",
    "\n",
    "print(elements[1][1])\n",
    "print(whacky_list)\n"
   ]
  },
  {
   "cell_type": "code",
   "execution_count": 18,
   "id": "41059b91-0bad-48e6-9f7d-5e3c9557307d",
   "metadata": {},
   "outputs": [
    {
     "name": "stdout",
     "output_type": "stream",
     "text": [
      "Hydrogen\n",
      "['Hydrogen', 'Helium', 'Lithium', 'Beryllium', 'Boron', 'Lead']\n",
      "['Hydrogen', 'Helium', 'Helium', 'Lithium', 'Beryllium', 'Boron', 'Lead']\n",
      "['Helium', 'Helium', 'Lithium', 'Beryllium', 'Boron', 'Lead']\n"
     ]
    }
   ],
   "source": [
    "#Q2b\n",
    "element_list= [\"Hydrogen\", \"Helium\", \"Lithium\", \"Beryllium\", \"Boron\"]\n",
    "print(element_list[0])\n",
    "element_list.append(\"Lead\")\n",
    "print(element_list)\n",
    "\n",
    "\n",
    "element_list.insert(1, \"Helium\")\n",
    "print(element_list)\n",
    "\n",
    "element_list.remove(\"Hydrogen\")\n",
    "print(element_list)"
   ]
  },
  {
   "cell_type": "code",
   "execution_count": 19,
   "id": "e3f492f8-22b8-4af8-9084-febbe81f70d7",
   "metadata": {
    "editable": true,
    "slideshow": {
     "slide_type": ""
    },
    "tags": []
   },
   "outputs": [
    {
     "name": "stdout",
     "output_type": "stream",
     "text": [
      "Boron\n",
      "Helium\n",
      "['Hydrogen', 'Lithium', 'Beryllium']\n"
     ]
    }
   ],
   "source": [
    "element_list= [\"Hydrogen\", \"Helium\", \"Lithium\", \"Beryllium\", \"Boron\"]\n",
    "a = element_list.pop(-1)\n",
    "print(a)\n",
    "b= element_list.pop(1)\n",
    "print(b)\n",
    "\n",
    "print(element_list)\n",
    "\n",
    "element_list.clear()\n",
    "print(element_list)"
   ]
  },
  {
   "cell_type": "code",
   "execution_count": 20,
   "id": "f3d78887-a7be-42ac-9a25-667453e9c750",
   "metadata": {},
   "outputs": [
    {
     "name": "stdout",
     "output_type": "stream",
     "text": [
      "['Hydrogen', 'Helium', 'Lithium', 'Beryllium', 'Boron', 'Nitrogen', 'Oxygen', 'Fluorine']\n",
      "8\n"
     ]
    }
   ],
   "source": [
    "element_list_1 = [\"Hydrogen\", \"Helium\", \"Lithium\", \"Beryllium\", \"Boron\"]\n",
    "element_list_2 = [\"Nitrogen\", \"Oxygen\", \"Fluorine\"]\n",
    "element_list_3 = element_list_1 + element_list_2\n",
    "print(element_list_3)\n",
    "\n",
    "print(len(element_list_3))"
   ]
  },
  {
   "cell_type": "code",
   "execution_count": 21,
   "id": "3e77dbce-531d-49d6-a276-196af187d0cc",
   "metadata": {},
   "outputs": [
    {
     "data": {
      "text/plain": [
       "['Hydrogen', 'Helium', 'Lithium']"
      ]
     },
     "execution_count": 21,
     "metadata": {},
     "output_type": "execute_result"
    }
   ],
   "source": [
    "element_list = [\"Hydrogen\", \"Helium\", \"Lithium\", \"Beryllium\", \"Boron\", \"Carbon\", \"Nitrogen\", \"Oxygen\", \"Fluorine\"]\n",
    "start = 0\n",
    "end = 3\n",
    "\n",
    "element_list[start:end]"
   ]
  },
  {
   "cell_type": "code",
   "execution_count": 37,
   "id": "68e07ce2-f9bb-40d3-9cb9-798fa0e09b8f",
   "metadata": {},
   "outputs": [
    {
     "ename": "AttributeError",
     "evalue": "'NoneType' object has no attribute 'append'",
     "output_type": "error",
     "traceback": [
      "\u001b[1;31m---------------------------------------------------------------------------\u001b[0m",
      "\u001b[1;31mAttributeError\u001b[0m                            Traceback (most recent call last)",
      "Cell \u001b[1;32mIn[37], line 6\u001b[0m\n\u001b[0;32m      4\u001b[0m \u001b[38;5;28;01mfor\u001b[39;00m i \u001b[38;5;129;01min\u001b[39;00m \u001b[38;5;28mrange\u001b[39m (\u001b[38;5;241m-\u001b[39m\u001b[38;5;241m3\u001b[39m,\u001b[38;5;241m-\u001b[39m\u001b[38;5;241m1\u001b[39m):\n\u001b[0;32m      5\u001b[0m     a \u001b[38;5;241m=\u001b[39m element_list[i]\n\u001b[1;32m----> 6\u001b[0m     element_list_1\u001b[38;5;241m=\u001b[39m \u001b[43melement_list_1\u001b[49m\u001b[38;5;241;43m.\u001b[39;49m\u001b[43mappend\u001b[49m(a)\n\u001b[0;32m      8\u001b[0m \u001b[38;5;28mprint\u001b[39m(element_list_1)\n",
      "\u001b[1;31mAttributeError\u001b[0m: 'NoneType' object has no attribute 'append'"
     ]
    }
   ],
   "source": [
    "#Q2d\n",
    "element_list= [\"Hydrogen\", \"Helium\", \"Lithium\", \"Beryllium\", \"Boron\", \"Carbon\", \"Nitrogen\", \"Oxygen\", \"Fluorine\"]\n",
    "element_list_1= [ ]\n",
    "for i in range (-3,-1):\n",
    "    a = element_list[i]\n",
    "    element_list_1= element_list_1.append(a)\n",
    "\n",
    "print(element_list_1)\n",
    " #WWWWWWWWWHYYYYYYYYYYY"
   ]
  },
  {
   "cell_type": "code",
   "execution_count": 39,
   "id": "58ad5ed1-9303-48e0-a0ae-d8a6f3db80a3",
   "metadata": {},
   "outputs": [
    {
     "name": "stdout",
     "output_type": "stream",
     "text": [
      "['Hydrogen', 'Lithium', 'Boron']\n"
     ]
    }
   ],
   "source": [
    "#q2d\n",
    "element_list= [\"Hydrogen\", \"Helium\", \"Lithium\", \"Beryllium\", \"Boron\", \"Carbon\", \"Nitrogen\", \"Oxygen\", \"Fluorine\"]\n",
    "print(element_list[0:6:2])"
   ]
  },
  {
   "cell_type": "code",
   "execution_count": 46,
   "id": "164aa5d2-2374-4ac1-8ce6-24620037ed7f",
   "metadata": {},
   "outputs": [
    {
     "name": "stdout",
     "output_type": "stream",
     "text": [
      "['Hydrogen', 'Lithium', 'Boron', 'Nitrogen', 'Fluorine']\n",
      "['Hydrogen', 'Lithium', 'Boron', 'Nitrogen', 'Fluorine']\n"
     ]
    }
   ],
   "source": [
    "#Q2f\n",
    "element_list= [\"Hydrogen\", \"Helium\", \"Lithium\", \"Beryllium\", \"Boron\", \"Carbon\", \"Nitrogen\", \"Oxygen\", \"Fluorine\"]\n",
    "print(element_list[::2])\n",
    "a = len(element_list)\n",
    "print(element_list[0:a:2])\n",
    "      "
   ]
  },
  {
   "cell_type": "code",
   "execution_count": 60,
   "id": "d12caebc-216e-4310-be59-9359702b43ff",
   "metadata": {},
   "outputs": [
    {
     "ename": "AssertionError",
     "evalue": "",
     "output_type": "error",
     "traceback": [
      "\u001b[1;31m---------------------------------------------------------------------------\u001b[0m",
      "\u001b[1;31mAssertionError\u001b[0m                            Traceback (most recent call last)",
      "Cell \u001b[1;32mIn[60], line 15\u001b[0m\n\u001b[0;32m     11\u001b[0m     \u001b[38;5;28;01massert\u001b[39;00m (middle_index, first_half, second_half) \u001b[38;5;241m==\u001b[39m (\u001b[38;5;241m5\u001b[39m, [\u001b[38;5;124m\"\u001b[39m\u001b[38;5;124mHydrogen\u001b[39m\u001b[38;5;124m\"\u001b[39m, \u001b[38;5;124m\"\u001b[39m\u001b[38;5;124mHelium\u001b[39m\u001b[38;5;124m\"\u001b[39m, \u001b[38;5;124m\"\u001b[39m\u001b[38;5;124mLithium\u001b[39m\u001b[38;5;124m\"\u001b[39m, \u001b[38;5;124m\"\u001b[39m\u001b[38;5;124mBeryllium\u001b[39m\u001b[38;5;124m\"\u001b[39m, \u001b[38;5;124m\"\u001b[39m\u001b[38;5;124mBoron\u001b[39m\u001b[38;5;124m\"\u001b[39m], [\u001b[38;5;124m\"\u001b[39m\u001b[38;5;124mCarbon\u001b[39m\u001b[38;5;124m\"\u001b[39m, \u001b[38;5;124m\"\u001b[39m\u001b[38;5;124mNitrogen\u001b[39m\u001b[38;5;124m\"\u001b[39m, \u001b[38;5;124m\"\u001b[39m\u001b[38;5;124mOxygen\u001b[39m\u001b[38;5;124m\"\u001b[39m, \u001b[38;5;124m\"\u001b[39m\u001b[38;5;124mFluorine\u001b[39m\u001b[38;5;124m\"\u001b[39m, \u001b[38;5;124m\"\u001b[39m\u001b[38;5;124mSodium\u001b[39m\u001b[38;5;124m\"\u001b[39m])\n\u001b[0;32m     13\u001b[0m     \u001b[38;5;28;01mreturn\u001b[39;00m \u001b[38;5;28mprint\u001b[39m(\u001b[38;5;124m\"\u001b[39m\u001b[38;5;124mTrue\u001b[39m\u001b[38;5;124m\"\u001b[39m)\n\u001b[1;32m---> 15\u001b[0m \u001b[43mtest_split\u001b[49m\u001b[43m(\u001b[49m\u001b[43mtest_even\u001b[49m\u001b[43m)\u001b[49m\n\u001b[0;32m     16\u001b[0m test_split(test_odd)\n",
      "Cell \u001b[1;32mIn[60], line 11\u001b[0m, in \u001b[0;36mtest_split\u001b[1;34m(test_list)\u001b[0m\n\u001b[0;32m      9\u001b[0m first_half \u001b[38;5;241m=\u001b[39m test_list[:middle_index\u001b[38;5;241m/\u001b[39m\u001b[38;5;241m/\u001b[39m\u001b[38;5;241m2\u001b[39m]\n\u001b[0;32m     10\u001b[0m second_half \u001b[38;5;241m=\u001b[39m test_list[middle_index\u001b[38;5;241m/\u001b[39m\u001b[38;5;241m/\u001b[39m\u001b[38;5;241m2\u001b[39m:]\n\u001b[1;32m---> 11\u001b[0m \u001b[38;5;28;01massert\u001b[39;00m (middle_index, first_half, second_half) \u001b[38;5;241m==\u001b[39m (\u001b[38;5;241m5\u001b[39m, [\u001b[38;5;124m\"\u001b[39m\u001b[38;5;124mHydrogen\u001b[39m\u001b[38;5;124m\"\u001b[39m, \u001b[38;5;124m\"\u001b[39m\u001b[38;5;124mHelium\u001b[39m\u001b[38;5;124m\"\u001b[39m, \u001b[38;5;124m\"\u001b[39m\u001b[38;5;124mLithium\u001b[39m\u001b[38;5;124m\"\u001b[39m, \u001b[38;5;124m\"\u001b[39m\u001b[38;5;124mBeryllium\u001b[39m\u001b[38;5;124m\"\u001b[39m, \u001b[38;5;124m\"\u001b[39m\u001b[38;5;124mBoron\u001b[39m\u001b[38;5;124m\"\u001b[39m], [\u001b[38;5;124m\"\u001b[39m\u001b[38;5;124mCarbon\u001b[39m\u001b[38;5;124m\"\u001b[39m, \u001b[38;5;124m\"\u001b[39m\u001b[38;5;124mNitrogen\u001b[39m\u001b[38;5;124m\"\u001b[39m, \u001b[38;5;124m\"\u001b[39m\u001b[38;5;124mOxygen\u001b[39m\u001b[38;5;124m\"\u001b[39m, \u001b[38;5;124m\"\u001b[39m\u001b[38;5;124mFluorine\u001b[39m\u001b[38;5;124m\"\u001b[39m, \u001b[38;5;124m\"\u001b[39m\u001b[38;5;124mSodium\u001b[39m\u001b[38;5;124m\"\u001b[39m])\n\u001b[0;32m     13\u001b[0m \u001b[38;5;28;01mreturn\u001b[39;00m \u001b[38;5;28mprint\u001b[39m(\u001b[38;5;124m\"\u001b[39m\u001b[38;5;124mTrue\u001b[39m\u001b[38;5;124m\"\u001b[39m)\n",
      "\u001b[1;31mAssertionError\u001b[0m: "
     ]
    }
   ],
   "source": [
    "test_even = [\"Hydrogen\", \"Helium\", \"Lithium\", \"Beryllium\", \"Boron\", \"Carbon\", \"Nitrogen\", \"Oxygen\", \"Fluorine\", \"Sodium\"]\n",
    "test_odd = [\"Hydrogen\", \"Helium\", \"Lithium\", \"Beryllium\", \"Boron\", \"Carbon\", \"Nitrogen\", \"Oxygen\", \"Fluorine\"]\n",
    "\n",
    "\n",
    "def test_split(test_list):\n",
    "    middle_index = len(test_list)\n",
    "    first_half = test_list[:middle_index//2]\n",
    "    second_half = test_list[middle_index//2:]\n",
    "    assert (middle_index, first_half, second_half) == (5, [\"Hydrogen\", \"Helium\", \"Lithium\", \"Beryllium\", \"Boron\"], [\"Carbon\", \"Nitrogen\", \"Oxygen\", \"Fluorine\", \"Sodium\"])\n",
    "\n",
    "    return print(\"True\")\n",
    "\n",
    "test_split(test_even)\n",
    "test_split(test_odd)"
   ]
  },
  {
   "cell_type": "code",
   "execution_count": null,
   "id": "b1f73670-bda5-47a5-a371-b6237d559b4b",
   "metadata": {},
   "outputs": [],
   "source": []
  }
 ],
 "metadata": {
  "kernelspec": {
   "display_name": "Python 3 (ipykernel)",
   "language": "python",
   "name": "python3"
  },
  "language_info": {
   "codemirror_mode": {
    "name": "ipython",
    "version": 3
   },
   "file_extension": ".py",
   "mimetype": "text/x-python",
   "name": "python",
   "nbconvert_exporter": "python",
   "pygments_lexer": "ipython3",
   "version": "3.10.13"
  }
 },
 "nbformat": 4,
 "nbformat_minor": 5
}
